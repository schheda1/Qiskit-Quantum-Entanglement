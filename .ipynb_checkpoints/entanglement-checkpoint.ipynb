{
 "cells": [
  {
   "cell_type": "code",
   "execution_count": null,
   "metadata": {},
   "outputs": [],
   "source": [
    "import numpy as np\n",
    "from qiskit import QuantumCircuit, QuantumRegister, ClassicalRegister, execute, BasicAer, IBMQ\n",
    "from qiskit.visualization import plot_histogram\n",
    "from qiskit.extensions import Initialize"
   ]
  },
  {
   "cell_type": "code",
   "execution_count": null,
   "metadata": {},
   "outputs": [],
   "source": [
    "# HW4-1\n",
    "\n",
    "# prepare a Bell state\n",
    "# given a quantum circuit, qc, we will create a Bell pair 00+11 between qubits a and b\n",
    "def create_bell_pair(qc, a, b):\n",
    "    \"\"\"Creates a bell pair in qc using qubits a & b\"\"\"\n",
    "    \n",
    "    ### Write your code below  \n",
    "   \n",
    "\n",
    "    ### end of your code"
   ]
  },
  {
   "cell_type": "code",
   "execution_count": null,
   "metadata": {},
   "outputs": [],
   "source": [
    "# HW4-2\n",
    "\n",
    "# Alice will perform Bell-basis measurement between her qubit unknown (uk) and qubit a\n",
    "# Given quantum computers measure in 0/1 basis, we need to perform the inverse transformation\n",
    "# from 0/1 to the basis defined by the four Bell states  [see Homework 2]\n",
    "# No measurement yet\n",
    "def alice_bellgates(qc, uk, a):\n",
    "    \"\"\"Bell-basis transformation between Alice's unknown qubit and the half of the Bell pair shared with Bob\"\"\"\n",
    "    ### Write your code below\n",
    "\n",
    "    \n",
    "    ### end of your code"
   ]
  },
  {
   "cell_type": "code",
   "execution_count": null,
   "metadata": {},
   "outputs": [],
   "source": [
    "# HW4-3\n",
    "\n",
    "# Define alice's measurement\n",
    "def alice_measure(qc, uk, a):\n",
    "    \"\"\"Measures qubits uk & a and records the results to classical bits 0-th and 1-th\"\"\"\n",
    "    ### Write your code below\n",
    "\n",
    "    \n",
    "    ### end of your code\n",
    "\n"
   ]
  },
  {
   "cell_type": "code",
   "execution_count": null,
   "metadata": {},
   "outputs": [],
   "source": [
    "# HW4-4\n",
    "\n",
    "# Bob needs to recover psi\n",
    "# from results of ClassicalRegisters (crz & crx) to apply gates\n",
    "def bob_gates(qc, qubit, crz, crx):\n",
    "    # Here we use qc.gate(qubit).c_if(classicalregister,1) to control our gates with a classical\n",
    "    # bit instead of a qubit\n",
    "    ### Write your code below\n",
    "    \n",
    "    \n",
    "    ### end of your code\n",
    "\n"
   ]
  },
  {
   "cell_type": "code",
   "execution_count": null,
   "metadata": {},
   "outputs": [],
   "source": [
    "def psi_initialize(theta,phi):  # cos(theta)|0> + e^(i phi) sin(theta)|1>\n",
    "    \"\"\"obtain a gate to prepare an initial state\"\"\"\n",
    "    psi=[np.cos(theta), np.sin(theta)* np.exp(1j* phi)]\n",
    "    init_gate = Initialize(psi)\n",
    "    init_gate.label = \"init\"\n",
    "    return init_gate"
   ]
  },
  {
   "cell_type": "code",
   "execution_count": null,
   "metadata": {},
   "outputs": [],
   "source": [
    "# Teleportation procedure\n",
    "qr = QuantumRegister(3, name=\"q\")   # Protocol uses 3 qubits\n",
    "crz = ClassicalRegister(1, name=\"crz\") # and 2 classical registers\n",
    "crx = ClassicalRegister(1, name=\"crx\")\n",
    "qc = QuantumCircuit(qr, crz, crx)\n",
    "\n",
    "## STEP 0\n",
    "# First, let's initialize Alice's q0\n",
    "init_gate=psi_initialize(np.pi*0.1,np.pi*0.3)\n",
    "qc.append(init_gate, [0]) \n",
    "qc.barrier()\n",
    "\n",
    "## STEP 1\n",
    "# share bell state [supposed to be shared in advance]\n",
    "create_bell_pair(qc, 1, 2)\n",
    "qc.barrier()\n",
    "\n",
    "## STEP 2\n",
    "# Alice prepares Bell-state basis transformation\n",
    "alice_bellgates(qc, 0, 1)\n",
    "\n",
    "## STEP 3\n",
    "# Alice measures her qubits \n",
    "alice_measure(qc, 0, 1)  # the classical results will be stored in crz and crx \n",
    "qc.barrier()\n",
    "\n",
    "## STEP 4\n",
    "# Bob decodes qubits\n",
    "bob_gates(qc, 2, crz, crx)\n",
    "\n",
    "# Display the circuit\n",
    "qc.draw('mpl')"
   ]
  },
  {
   "cell_type": "code",
   "execution_count": null,
   "metadata": {},
   "outputs": [],
   "source": [
    "# in order to check, we can invert the init_gate and apply it to the qubit of Bob so it should be |0>\n",
    "# Note that this inversion will somehow be named \"disentangler\"\n",
    "inverse_init_gate = init_gate.gates_to_uncompute()\n",
    "qc.append(inverse_init_gate,[2])\n",
    "qc.draw('mpl')\n",
    "\n"
   ]
  },
  {
   "cell_type": "code",
   "execution_count": null,
   "metadata": {},
   "outputs": [],
   "source": [
    "# Add ClassicalRegister\n",
    "# to see the result of Bob's measurement\n",
    "cr_result = ClassicalRegister(1)\n",
    "qc.add_register(cr_result)\n",
    "qc.measure(2,2)\n",
    "qc.draw('mpl')\n",
    "\n",
    "# Run simulation\n",
    "backend = BasicAer.get_backend('qasm_simulator')\n",
    "counts = execute(qc, backend, shots=1024).result().get_counts()\n",
    "# The counts are labeled->q_2 q_1 q_0: counts, ideally q_2 should be zero and \n",
    "# q_1 q_0's the counts should be equally distributed \n",
    "plot_histogram(counts)\n",
    "\n"
   ]
  },
  {
   "cell_type": "code",
   "execution_count": null,
   "metadata": {},
   "outputs": [],
   "source": [
    "# Let's check the probability of success\n",
    "p=0\n",
    "total=0\n",
    "for key in counts.keys():\n",
    "    total+= counts[key]\n",
    "    if key[0]=='0':\n",
    "        p=p+counts[key]\n",
    "print('Probability of success = ',p/total)\n",
    "\n"
   ]
  },
  {
   "cell_type": "markdown",
   "metadata": {},
   "source": [
    "Postponement of measurement\n",
    "Instead of Alice performs measurement, if Alice and Bob can apply controlled gates, then they can postpone the measurement till the end\n",
    "Given that the third qubit (qubit 2) after the inversion is returned to 0, we can just measure it to verify the success"
   ]
  },
  {
   "cell_type": "code",
   "execution_count": null,
   "metadata": {},
   "outputs": [],
   "source": [
    "# Run simulation\n",
    "backend = BasicAer.get_backend('qasm_simulator')\n",
    "counts = execute(qc, backend, shots=1024).result().get_counts()\n",
    "# The counts should all be 0 (since we only measure the third qubit)\n",
    "plot_histogram(counts)"
   ]
  },
  {
   "cell_type": "code",
   "execution_count": null,
   "metadata": {},
   "outputs": [],
   "source": [
    "# Revised verification of the teleportation procedure\n",
    "qr = QuantumRegister(3, name=\"q\")   # Protocol uses 3 qubits\n",
    "verify = ClassicalRegister(1, name=\"verify\") # one classical\n",
    "qc = QuantumCircuit(qr, verify)\n",
    "\n",
    "## STEP 0\n",
    "# First, let's initialize Alice's q0\n",
    "init_gate=psi_initialize(np.pi*0.1,np.pi*0.3)\n",
    "qc.append(init_gate, [0]) \n",
    "qc.barrier()\n",
    "\n",
    "## STEP 1\n",
    "# share bell state [supposed to be shared in advance]\n",
    "create_bell_pair(qc, 1, 2)\n",
    "qc.barrier()\n",
    "\n",
    "## STEP 2\n",
    "# Alice prepares Bell-state basis transformation\n",
    "alice_bellgates(qc, 0, 1)\n",
    "\n",
    "## New STEP 3:\n",
    "#\n",
    "# HW-5 \n",
    "# combine previous steps 3 and 4: Replace Alice measurement and Bob's action using controlled gates cz and cx \n",
    "# \n",
    "### Write your code below\n",
    "\n",
    "\n",
    "### end of your code\n",
    "qc.barrier()\n",
    "\n",
    "## New STEP 4\n",
    "# Bob applies inversion and measures its qubit\n",
    "qc.append(inverse_init_gate,[2])\n",
    "qc.measure(2,verify)\n",
    "\n",
    "# Display the circuit\n",
    "qc.draw('mpl')\n",
    "\n"
   ]
  },
  {
   "cell_type": "code",
   "execution_count": null,
   "metadata": {},
   "outputs": [],
   "source": [
    "# Let's check the probability of success\n",
    "p=0\n",
    "total=0\n",
    "for key in counts.keys():\n",
    "    total+= counts[key]\n",
    "    if key[0]=='0':\n",
    "        p=p+counts[key]\n",
    "print('Probability of success = ',p/total)"
   ]
  },
  {
   "cell_type": "code",
   "execution_count": null,
   "metadata": {},
   "outputs": [],
   "source": [
    "import qiskit\n",
    "qiskit.__qiskit_version__"
   ]
  }
 ],
 "metadata": {
  "kernelspec": {
   "display_name": "Python 3",
   "language": "python",
   "name": "python3"
  },
  "language_info": {
   "codemirror_mode": {
    "name": "ipython",
    "version": 3
   },
   "file_extension": ".py",
   "mimetype": "text/x-python",
   "name": "python",
   "nbconvert_exporter": "python",
   "pygments_lexer": "ipython3",
   "version": "3.7.9"
  }
 },
 "nbformat": 4,
 "nbformat_minor": 4
}
